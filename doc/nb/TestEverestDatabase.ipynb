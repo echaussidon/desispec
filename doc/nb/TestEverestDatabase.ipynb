{
 "cells": [
  {
   "cell_type": "markdown",
   "id": "172352fa-cb01-4562-a27a-7784e31c0ef4",
   "metadata": {},
   "source": [
    "# Test Redshift Database"
   ]
  },
  {
   "cell_type": "code",
   "execution_count": null,
   "id": "b086e33a-fe1f-485d-97ae-18adad96dc2f",
   "metadata": {},
   "outputs": [],
   "source": [
    "import os\n",
    "import glob\n",
    "import numpy as np\n",
    "from astropy.io import fits\n",
    "from astropy.table import Table\n",
    "from desiutil.log import get_logger, DEBUG, INFO\n",
    "from desispec.io.meta import faflavor2program\n",
    "import desispec.database.redshift as dsr"
   ]
  },
  {
   "cell_type": "code",
   "execution_count": null,
   "id": "3187f15b-83c3-42de-a00d-6872b62ebdd5",
   "metadata": {},
   "outputs": [],
   "source": [
    "specprod = os.environ['SPECPROD'] = 'f5'"
   ]
  },
  {
   "cell_type": "markdown",
   "id": "efa8d4e9-e175-4c3a-8565-1b0666fbb00f",
   "metadata": {},
   "source": [
    "## Consistency checks on exposures, frames and tiles"
   ]
  },
  {
   "cell_type": "code",
   "execution_count": null,
   "id": "2e830b1d-5977-4bca-a9a0-6abdbd67e455",
   "metadata": {},
   "outputs": [],
   "source": [
    "tiles = Table.read(os.path.join(os.environ['DESI_SPECTRO_REDUX'], specprod, f'tiles-{specprod}.csv'), format='ascii.csv')"
   ]
  },
  {
   "cell_type": "code",
   "execution_count": null,
   "id": "12acbace-7abc-4c5c-812e-457c51a1b425",
   "metadata": {},
   "outputs": [],
   "source": [
    "tiles"
   ]
  },
  {
   "cell_type": "code",
   "execution_count": null,
   "id": "3e6b75c5-c6c4-437c-b067-aabccbc428b7",
   "metadata": {},
   "outputs": [],
   "source": [
    "# with fits.open(os.path.join(os.environ['DESI_SPECTRO_REDUX'], specprod, f'exposures-{specprod}.fits')) as hdulist:\n",
    "#     exposures = hdulist['EXPOSURES'].data\n",
    "#     frames = hdulist['FRAMES'].data\n",
    "exposures = Table.read(os.path.join(os.environ['DESI_SPECTRO_REDUX'], specprod, f'exposures-{specprod}.fits'), hdu='EXPOSURES')\n",
    "frames = Table.read(os.path.join(os.environ['DESI_SPECTRO_REDUX'], specprod, f'exposures-{specprod}.fits'), hdu='FRAMES')"
   ]
  },
  {
   "cell_type": "code",
   "execution_count": null,
   "id": "6755781c-9489-40ee-94ea-84b1d2262f18",
   "metadata": {},
   "outputs": [],
   "source": [
    "exposures"
   ]
  },
  {
   "cell_type": "code",
   "execution_count": null,
   "id": "54804170-12ad-4ca2-b941-b95b397fc960",
   "metadata": {},
   "outputs": [],
   "source": [
    "for k, expid in enumerate(exposures['EXPID']):\n",
    "    assert (frames['NIGHT'][frames['EXPID'] == expid] == exposures[k]['NIGHT']).all()\n",
    "    assert (frames['TILEID'][frames['EXPID'] == expid] == exposures[k]['TILEID']).all()\n",
    "    assert (frames['TILERA'][frames['EXPID'] == expid] == exposures[k]['TILERA']).all()\n",
    "    assert (frames['TILEDEC'][frames['EXPID'] == expid] == exposures[k]['TILEDEC']).all()\n",
    "    # assert (frames['MJD'][frames['EXPID'] == expid] == exposures[k]['MJD']).all()\n",
    "    # assert (frames['EXPTIME'][frames['EXPID'] == expid] == exposures[k]['EXPTIME']).all()\n",
    "    assert (frames['AIRMASS'][frames['EXPID'] == expid] == exposures[k]['AIRMASS']).all()\n",
    "    # assert (frames['EBV'][frames['EXPID'] == expid] == exposures[k]['EBV']).all()\n",
    "    assert (frames['SEEING_ETC'][frames['EXPID'] == expid] == exposures[k]['SEEING_ETC']).all()\n",
    "    assert (frames['EFFTIME_ETC'][frames['EXPID'] == expid] == exposures[k]['EFFTIME_ETC']).all()\n",
    "    # assert (frames['TSNR2_GPBDARK'][frames['EXPID'] == expid] == exposures[k]['TSNR2_GPBDARK']).all()\n",
    "    # assert (frames['TSNR2_ELG'][frames['EXPID'] == expid] == exposures[k]['TSNR2_ELG']).all()\n",
    "    # assert (frames['TSNR2_GPBBRIGHT'][frames['EXPID'] == expid] == exposures[k]['TSNR2_GPBBRIGHT']).all()\n",
    "    # assert (frames['TSNR2_LYA'][frames['EXPID'] == expid] == exposures[k]['TSNR2_LYA']).all()\n",
    "    # assert (frames['TSNR2_BGS'][frames['EXPID'] == expid] == exposures[k]['TSNR2_BGS']).all()\n",
    "    # assert (frames['TSNR2_GPBBACKUP'][frames['EXPID'] == expid] == exposures[k]['TSNR2_GPBBACKUP']).all()\n",
    "    # assert (frames['TSNR2_QSO'][frames['EXPID'] == expid] == exposures[k]['TSNR2_QSO']).all()\n",
    "    # assert (frames['TSNR2_LRG'][frames['EXPID'] == expid] == exposures[k]['TSNR2_LRG']).all()\n",
    "    assert (frames['SURVEY'][frames['EXPID'] == expid] == exposures[k]['SURVEY']).all()\n",
    "    assert (frames['GOALTYPE'][frames['EXPID'] == expid] == exposures[k]['GOALTYPE']).all()\n",
    "    assert (frames['FAPRGRM'][frames['EXPID'] == expid] == exposures[k]['FAPRGRM']).all()\n",
    "    assert (frames['FAFLAVOR'][frames['EXPID'] == expid] == exposures[k]['FAFLAVOR']).all()\n",
    "    assert (frames['MINTFRAC'][frames['EXPID'] == expid] == exposures[k]['MINTFRAC']).all()\n",
    "    assert (frames['GOALTIME'][frames['EXPID'] == expid] == exposures[k]['GOALTIME']).all()"
   ]
  },
  {
   "cell_type": "code",
   "execution_count": null,
   "id": "83e4b603-fab5-4efe-ba5a-1dabbd3bb986",
   "metadata": {},
   "outputs": [],
   "source": [
    "for expid in frames['EXPID']:\n",
    "    assert expid in exposures['EXPID']"
   ]
  },
  {
   "cell_type": "code",
   "execution_count": null,
   "id": "4f95a003-b240-4b4a-b909-66780a1fd323",
   "metadata": {},
   "outputs": [],
   "source": [
    "program = faflavor2program(exposures['FAFLAVOR'])\n",
    "for survey in np.unique(exposures['SURVEY']):\n",
    "    print(f\"'{survey}': \", np.unique(program[exposures['SURVEY'] == survey]).tolist(), ',', sep='')"
   ]
  },
  {
   "cell_type": "markdown",
   "id": "30700a28-601b-4cbe-9b24-c5d6fffe55b6",
   "metadata": {},
   "source": [
    "## Test load individual tables"
   ]
  },
  {
   "cell_type": "code",
   "execution_count": null,
   "id": "cb20a773-00d3-49b3-9104-05e3da58235b",
   "metadata": {},
   "outputs": [],
   "source": [
    "dsr.log = get_logger(DEBUG, timestamp=True)\n",
    "postgresql = dsr.setup_db(overwrite=True, hostname='nerscdb03.nersc.gov', username='desidev_admin', schema=specprod, verbose=True)"
   ]
  },
  {
   "cell_type": "code",
   "execution_count": null,
   "id": "7ac11495-0a73-4faf-871c-dd561b450605",
   "metadata": {},
   "outputs": [],
   "source": [
    "loader = [{'filepaths': os.path.join(os.environ['DESI_SPECTRO_REDUX'], specprod, f'exposures-{specprod}.fits'),\n",
    "           'tcls': dsr.Exposure,\n",
    "           'hdu': 'EXPOSURES',\n",
    "           'expand': None,\n",
    "           'insert': {'faprgrm': ('program',)},\n",
    "           'convert': {'program': faflavor2program},\n",
    "           'index': None,\n",
    "           'q3c': 'tilera',\n",
    "           'chunksize': 50000,\n",
    "           'maxrows': 0\n",
    "          },\n",
    "          {'filepaths': os.path.join(os.environ['DESI_SPECTRO_REDUX'], specprod, f'exposures-{specprod}.fits'),\n",
    "           'tcls': dsr.Frame,\n",
    "           'hdu': 'FRAMES',\n",
    "           'expand': None,\n",
    "           'insert': None,  # {'night': ('frameid',)},\n",
    "           'convert': None,  # {'frameid': frameid},\n",
    "           'index': None,\n",
    "           'q3c': None,\n",
    "           'chunksize': 50000,\n",
    "           'maxrows': 0\n",
    "          }]\n"
   ]
  },
  {
   "cell_type": "code",
   "execution_count": null,
   "id": "937af545-dc5a-4821-bafd-7a28785bc884",
   "metadata": {},
   "outputs": [],
   "source": [
    "for l in loader:\n",
    "    dsr.load_file(**l)"
   ]
  },
  {
   "cell_type": "code",
   "execution_count": null,
   "id": "c464e5ac-5a32-4233-a7bd-6f2dc89a1331",
   "metadata": {},
   "outputs": [],
   "source": []
  }
 ],
 "metadata": {
  "kernelspec": {
   "display_name": "DESI custom",
   "language": "python",
   "name": "desi-custom"
  },
  "language_info": {
   "codemirror_mode": {
    "name": "ipython",
    "version": 3
   },
   "file_extension": ".py",
   "mimetype": "text/x-python",
   "name": "python",
   "nbconvert_exporter": "python",
   "pygments_lexer": "ipython3",
   "version": "3.8.3"
  }
 },
 "nbformat": 4,
 "nbformat_minor": 5
}
