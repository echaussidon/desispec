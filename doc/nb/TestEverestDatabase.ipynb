{
 "cells": [
  {
   "cell_type": "markdown",
   "id": "172352fa-cb01-4562-a27a-7784e31c0ef4",
   "metadata": {},
   "source": [
    "# Test Redshift Database\n",
    "\n",
    "## Imports"
   ]
  },
  {
   "cell_type": "code",
   "execution_count": null,
   "id": "b086e33a-fe1f-485d-97ae-18adad96dc2f",
   "metadata": {},
   "outputs": [],
   "source": [
    "import os\n",
    "import glob\n",
    "from pytz import utc\n",
    "import numpy as np\n",
    "from astropy.io import fits\n",
    "from astropy.table import Table\n",
    "from astropy.time import Time\n",
    "from desiutil.iers import freeze_iers\n",
    "from desiutil.log import get_logger, DEBUG, INFO\n",
    "from desispec.io.meta import faflavor2program\n",
    "from desispec.io.util import checkgzip\n",
    "import desispec.database.redshift as dsr\n",
    "freeze_iers()"
   ]
  },
  {
   "cell_type": "markdown",
   "id": "a0245ef2-fc2e-458d-bfb2-9a89c8183aab",
   "metadata": {},
   "source": [
    "## Important Setup"
   ]
  },
  {
   "cell_type": "code",
   "execution_count": null,
   "id": "3187f15b-83c3-42de-a00d-6872b62ebdd5",
   "metadata": {},
   "outputs": [],
   "source": [
    "specprod = os.environ['SPECPROD'] = 'fuji'\n",
    "overwrite = False"
   ]
  },
  {
   "cell_type": "markdown",
   "id": "efa8d4e9-e175-4c3a-8565-1b0666fbb00f",
   "metadata": {},
   "source": [
    "## Consistency checks on exposures, frames and tiles\n",
    "\n",
    "### Load two versions of tiles file"
   ]
  },
  {
   "cell_type": "code",
   "execution_count": null,
   "id": "2e830b1d-5977-4bca-a9a0-6abdbd67e455",
   "metadata": {},
   "outputs": [],
   "source": [
    "tiles_fits = Table.read(os.path.join(os.environ['DESI_SPECTRO_REDUX'], specprod, f'tiles-{specprod}.fits'), hdu='TILE_COMPLETENESS')"
   ]
  },
  {
   "cell_type": "code",
   "execution_count": null,
   "id": "12acbace-7abc-4c5c-812e-457c51a1b425",
   "metadata": {},
   "outputs": [],
   "source": [
    "tiles_fits"
   ]
  },
  {
   "cell_type": "code",
   "execution_count": null,
   "id": "343d4c9b-c526-41ac-bcd0-e9ae7d45b843",
   "metadata": {},
   "outputs": [],
   "source": [
    "tiles_csv = Table.read(os.path.join(os.environ['DESI_SPECTRO_REDUX'], specprod, f'tiles-{specprod}.csv'), format='ascii.csv')"
   ]
  },
  {
   "cell_type": "code",
   "execution_count": null,
   "id": "92b98046-936f-47ea-b31b-f359529e5314",
   "metadata": {},
   "outputs": [],
   "source": [
    "tiles_csv"
   ]
  },
  {
   "cell_type": "markdown",
   "id": "f573580f-4f3e-4c3a-805e-260e45475a74",
   "metadata": {},
   "source": [
    "### Are the two tiles files self-consistent?"
   ]
  },
  {
   "cell_type": "code",
   "execution_count": null,
   "id": "f686e391-684c-4eea-bbed-362d483a55cf",
   "metadata": {},
   "outputs": [],
   "source": [
    "for row in range(len(tiles_fits)):\n",
    "    for col in tiles_fits.colnames:\n",
    "        try:\n",
    "            assert tiles_fits[row][col] == tiles_csv[row][col]\n",
    "        except AssertionError:\n",
    "            print(row, col)"
   ]
  },
  {
   "cell_type": "markdown",
   "id": "6a96ab51-8a1f-4999-a963-93271238fdbe",
   "metadata": {},
   "source": [
    "### Load two versions of exposures file"
   ]
  },
  {
   "cell_type": "code",
   "execution_count": null,
   "id": "3e6b75c5-c6c4-437c-b067-aabccbc428b7",
   "metadata": {},
   "outputs": [],
   "source": [
    "exposures_fits = Table.read(os.path.join(os.environ['DESI_SPECTRO_REDUX'], specprod, f'exposures-{specprod}.fits'), hdu='EXPOSURES')\n",
    "frames = Table.read(os.path.join(os.environ['DESI_SPECTRO_REDUX'], specprod, f'exposures-{specprod}.fits'), hdu='FRAMES')"
   ]
  },
  {
   "cell_type": "code",
   "execution_count": null,
   "id": "6755781c-9489-40ee-94ea-84b1d2262f18",
   "metadata": {},
   "outputs": [],
   "source": [
    "exposures_fits"
   ]
  },
  {
   "cell_type": "code",
   "execution_count": null,
   "id": "f5ea1dd7-06b3-459d-9470-63bdaecfd2b8",
   "metadata": {},
   "outputs": [],
   "source": [
    "exposures_csv = Table.read(os.path.join(os.environ['DESI_SPECTRO_REDUX'], specprod, f'exposures-{specprod}.csv'), format='ascii.csv')"
   ]
  },
  {
   "cell_type": "code",
   "execution_count": null,
   "id": "3e64da96-c685-40b0-ac89-d4e43fc8b00c",
   "metadata": {},
   "outputs": [],
   "source": [
    "exposures_csv"
   ]
  },
  {
   "cell_type": "markdown",
   "id": "8fc8ca4d-5819-489c-9516-1483c11feace",
   "metadata": {},
   "source": [
    "### Are the two exposures files self-consistent?"
   ]
  },
  {
   "cell_type": "code",
   "execution_count": null,
   "id": "f27603c5-7863-4988-a3c6-e6989217db23",
   "metadata": {},
   "outputs": [],
   "source": [
    "for row in range(len(exposures_fits)):\n",
    "    for col in exposures_fits.colnames:\n",
    "        try:\n",
    "            assert exposures_fits[row][col] == exposures_csv[row][col]\n",
    "        except AssertionError:\n",
    "            try:\n",
    "                assert np.around(exposures_fits[row][col].astype(float), 1) == exposures_csv[row][col]\n",
    "            except AssertionError:\n",
    "                try:\n",
    "                    assert np.around(exposures_fits[row][col].astype(float), 2) == exposures_csv[row][col]\n",
    "                except AssertionError:\n",
    "                    try:\n",
    "                        assert np.around(exposures_fits[row][col].astype(float), 3) == exposures_csv[row][col]\n",
    "                    except AssertionError:\n",
    "                        print(row, col, exposures_fits[row][col], exposures_csv[row][col])"
   ]
  },
  {
   "cell_type": "markdown",
   "id": "a91ba1ab-7b13-4694-b062-0b0a27e36527",
   "metadata": {},
   "source": [
    "### What programs are present?"
   ]
  },
  {
   "cell_type": "code",
   "execution_count": null,
   "id": "74b5f559-6653-4430-8e66-e9547fc412d6",
   "metadata": {},
   "outputs": [],
   "source": [
    "np.unique(faflavor2program(exposures_fits['FAFLAVOR']))"
   ]
  },
  {
   "cell_type": "code",
   "execution_count": null,
   "id": "0121a508-0f11-4ba4-8522-0e67cc989df3",
   "metadata": {},
   "outputs": [],
   "source": [
    "np.unique(exposures_fits['GOALTYPE'])"
   ]
  },
  {
   "cell_type": "code",
   "execution_count": null,
   "id": "272e572f-549a-4bc7-935c-7b0bbd2c35e3",
   "metadata": {},
   "outputs": [],
   "source": [
    "np.unique(faflavor2program(tiles_fits['FAFLAVOR']))"
   ]
  },
  {
   "cell_type": "code",
   "execution_count": null,
   "id": "4f95a003-b240-4b4a-b909-66780a1fd323",
   "metadata": {},
   "outputs": [],
   "source": [
    "program = faflavor2program(exposures_fits['FAFLAVOR'])\n",
    "assert (exposures_fits['PROGRAM'] == program).all()\n",
    "\n"
   ]
  },
  {
   "cell_type": "code",
   "execution_count": null,
   "id": "8b50131c-661c-40e2-b9fd-4ee92f49cf02",
   "metadata": {},
   "outputs": [],
   "source": [
    "for survey in np.unique(exposures_fits['SURVEY']):\n",
    "    print(f\"'{survey}': \", np.unique(program[exposures_fits['SURVEY'] == survey]).tolist(), ',', sep='')"
   ]
  },
  {
   "cell_type": "markdown",
   "id": "1fe04bdc-88d9-45e1-9e16-a97d179b0c10",
   "metadata": {},
   "source": [
    "### Compare frames to exposures"
   ]
  },
  {
   "cell_type": "code",
   "execution_count": null,
   "id": "83e4b603-fab5-4efe-ba5a-1dabbd3bb986",
   "metadata": {},
   "outputs": [],
   "source": [
    "for expid in frames['EXPID']:\n",
    "    assert expid in exposures_fits['EXPID']"
   ]
  },
  {
   "cell_type": "code",
   "execution_count": null,
   "id": "54804170-12ad-4ca2-b941-b95b397fc960",
   "metadata": {},
   "outputs": [],
   "source": [
    "for k, expid in enumerate(exposures_fits['EXPID']):\n",
    "    assert (frames['NIGHT'][frames['EXPID'] == expid] == exposures_fits[k]['NIGHT']).all()\n",
    "    assert (frames['TILEID'][frames['EXPID'] == expid] == exposures_fits[k]['TILEID']).all()\n",
    "    assert (frames['TILERA'][frames['EXPID'] == expid] == exposures_fits[k]['TILERA']).all()\n",
    "    assert (frames['TILEDEC'][frames['EXPID'] == expid] == exposures_fits[k]['TILEDEC']).all()\n",
    "    # assert (frames['MJD'][frames['EXPID'] == expid] == exposures_fits[k]['MJD']).all()\n",
    "    # assert (frames['EXPTIME'][frames['EXPID'] == expid] == exposures_fits[k]['EXPTIME']).all()\n",
    "    assert (frames['AIRMASS'][frames['EXPID'] == expid] == exposures_fits[k]['AIRMASS']).all()\n",
    "    # assert (frames['EBV'][frames['EXPID'] == expid] == exposures_fits[k]['EBV']).all()\n",
    "    assert (frames['SEEING_ETC'][frames['EXPID'] == expid] == exposures_fits[k]['SEEING_ETC']).all()\n",
    "    assert (frames['EFFTIME_ETC'][frames['EXPID'] == expid] == exposures_fits[k]['EFFTIME_ETC']).all()\n",
    "    # assert (frames['TSNR2_GPBDARK'][frames['EXPID'] == expid] == exposures_fits[k]['TSNR2_GPBDARK']).all()\n",
    "    # assert (frames['TSNR2_ELG'][frames['EXPID'] == expid] == exposures_fits[k]['TSNR2_ELG']).all()\n",
    "    # assert (frames['TSNR2_GPBBRIGHT'][frames['EXPID'] == expid] == exposures_fits[k]['TSNR2_GPBBRIGHT']).all()\n",
    "    # assert (frames['TSNR2_LYA'][frames['EXPID'] == expid] == exposures_fits[k]['TSNR2_LYA']).all()\n",
    "    # assert (frames['TSNR2_BGS'][frames['EXPID'] == expid] == exposures_fits[k]['TSNR2_BGS']).all()\n",
    "    # assert (frames['TSNR2_GPBBACKUP'][frames['EXPID'] == expid] == exposures_fits[k]['TSNR2_GPBBACKUP']).all()\n",
    "    # assert (frames['TSNR2_QSO'][frames['EXPID'] == expid] == exposures_fits[k]['TSNR2_QSO']).all()\n",
    "    # assert (frames['TSNR2_LRG'][frames['EXPID'] == expid] == exposures_fits[k]['TSNR2_LRG']).all()\n",
    "    assert (frames['SURVEY'][frames['EXPID'] == expid] == exposures_fits[k]['SURVEY']).all()\n",
    "    assert (frames['GOALTYPE'][frames['EXPID'] == expid] == exposures_fits[k]['GOALTYPE']).all()\n",
    "    assert (frames['FAPRGRM'][frames['EXPID'] == expid] == exposures_fits[k]['FAPRGRM']).all()\n",
    "    assert (frames['FAFLAVOR'][frames['EXPID'] == expid] == exposures_fits[k]['FAFLAVOR']).all()\n",
    "    assert (frames['MINTFRAC'][frames['EXPID'] == expid] == exposures_fits[k]['MINTFRAC']).all()\n",
    "    assert (frames['GOALTIME'][frames['EXPID'] == expid] == exposures_fits[k]['GOALTIME']).all()"
   ]
  },
  {
   "cell_type": "markdown",
   "id": "b92b7ec3-bc0e-4877-aea5-d39c20c61cb8",
   "metadata": {},
   "source": [
    "### Compare tiles to exposures"
   ]
  },
  {
   "cell_type": "code",
   "execution_count": null,
   "id": "d6ae2ed6-597f-43e1-886b-109d632edbc4",
   "metadata": {},
   "outputs": [],
   "source": [
    "for row in tiles:\n",
    "    # SURVEY is known issue\n",
    "    # GOALTIME is known issue\n",
    "    # OBSSTATUS is not in exposures\n",
    "    w = exposures['TILEID'] == row['TILEID']\n",
    "    assert len(exposures[w]) == row['NEXP']\n",
    "    for column in ('SURVEY', 'FAPRGRM', 'FAFLAVOR', 'GOALTYPE'):\n",
    "        try:\n",
    "            assert (exposures[w][column] == row[column]).all()\n",
    "        except AssertionError:\n",
    "            print(row['TILEID'], row[column])\n",
    "            print(exposures[w][column])\n",
    "    try:\n",
    "        assert (np.round(exposures[w]['TILERA'], decimals=2) == row['TILERA']).all()\n",
    "    except AssertionError:\n",
    "        assert (np.round(exposures[w]['TILERA'], decimals=3) == row['TILERA']).all()\n",
    "    try:\n",
    "        assert (np.round(exposures[w]['TILEDEC'], decimals=2) == row['TILEDEC']).all()\n",
    "    except AssertionError:\n",
    "        try:\n",
    "            assert (np.round(exposures[w]['TILEDEC'], decimals=3) == row['TILEDEC']).all()\n",
    "        except AssertionError:\n",
    "            assert (np.round(exposures[w]['TILEDEC'], decimals=4) == row['TILEDEC']).all()\n",
    "            # print(row['TILEID'], row['TILEDEC'])\n",
    "            # print(np.round(exposures[w]['TILEDEC'], decimals=3))\n",
    "    for column in ('EXPTIME', 'EFFTIME_ETC', 'EFFTIME_SPEC', 'EFFTIME_GFA', 'LRG_EFFTIME_DARK', 'ELG_EFFTIME_DARK', 'BGS_EFFTIME_BRIGHT', 'LYA_EFFTIME_DARK'):\n",
    "        try:\n",
    "            assert np.allclose(np.round(exposures[w][column].sum(), decimals=1), row[column])\n",
    "        except AssertionError:\n",
    "            print(row['TILEID'], row[column])\n",
    "            print(column, np.round(exposures[w][column].sum(), decimals=1))\n",
    "    for column in ('GOALTIME', 'MINTFRAC'):\n",
    "        try:\n",
    "            assert np.allclose(np.round(exposures[w][column], decimals=1), row[column])\n",
    "        except AssertionError:\n",
    "            try:\n",
    "                assert np.allclose(np.round(exposures[w][column], decimals=2), row[column])\n",
    "            except AssertionError:\n",
    "                print(row['TILEID'], row[column])\n",
    "                print(column, np.round(exposures[w][column], decimals=1))\n",
    "    assert exposures[w]['NIGHT'].max() == row['LASTNIGHT']"
   ]
  },
  {
   "cell_type": "markdown",
   "id": "89cf2b25-a8a7-4042-b390-820fb22e130b",
   "metadata": {},
   "source": [
    "## Check fiberassign files"
   ]
  },
  {
   "cell_type": "code",
   "execution_count": null,
   "id": "03b41f5b-5af7-4492-8e00-0d4dcf3378c8",
   "metadata": {},
   "outputs": [],
   "source": [
    "fiberassign = Table.read(fiberassign_files[0], hdu='FIBERASSIGN')\n",
    "potential = Table.read(fiberassign_files[0], hdu='POTENTIAL_ASSIGNMENTS')"
   ]
  },
  {
   "cell_type": "code",
   "execution_count": null,
   "id": "9b68f28b-e491-413e-b3ce-1d2c3532cc49",
   "metadata": {},
   "outputs": [],
   "source": [
    "fiberassign"
   ]
  },
  {
   "cell_type": "code",
   "execution_count": null,
   "id": "f2d184f4-a97a-4b31-9ae5-2f8843a72bc2",
   "metadata": {},
   "outputs": [],
   "source": [
    "potential"
   ]
  },
  {
   "cell_type": "markdown",
   "id": "479d2b19-dcde-4825-8bd1-c4e6ad87bb73",
   "metadata": {},
   "source": [
    "## Converting MJD to datetime"
   ]
  },
  {
   "cell_type": "code",
   "execution_count": null,
   "id": "9eb4588d-9509-42e2-b153-3ed050ce8895",
   "metadata": {},
   "outputs": [],
   "source": [
    "Time(exposures['MJD'], format='mjd').to_value('datetime').tolist()[0]"
   ]
  },
  {
   "cell_type": "code",
   "execution_count": null,
   "id": "0e0b1f1f-c4e0-491f-8f5e-82c7358bbbee",
   "metadata": {},
   "outputs": [],
   "source": [
    "Time(exposures['MJD'], format='mjd').to_value('datetime').tolist()[0].replace(tzinfo=utc)"
   ]
  },
  {
   "cell_type": "markdown",
   "id": "30700a28-601b-4cbe-9b24-c5d6fffe55b6",
   "metadata": {},
   "source": [
    "## Test load tiles, exposures, frames"
   ]
  },
  {
   "cell_type": "code",
   "execution_count": null,
   "id": "cb20a773-00d3-49b3-9104-05e3da58235b",
   "metadata": {},
   "outputs": [],
   "source": [
    "dsr.log = get_logger(DEBUG, timestamp=True)\n",
    "postgresql = dsr.setup_db(overwrite=overwrite, hostname='nerscdb03.nersc.gov', username='desidev_admin', schema=specprod, verbose=True)"
   ]
  },
  {
   "cell_type": "code",
   "execution_count": null,
   "id": "7ac11495-0a73-4faf-871c-dd561b450605",
   "metadata": {},
   "outputs": [],
   "source": [
    "loader = [{'filepaths': os.path.join(os.environ['DESI_SPECTRO_REDUX'], specprod, f'tiles-{specprod}.csv'),\n",
    "           'tcls': dsr.Tile,\n",
    "           'insert': {'faflavor': ('program',)},\n",
    "           'convert': {'program': faflavor2program},\n",
    "           'q3c': 'tilera',\n",
    "          },\n",
    "          {'filepaths': os.path.join(os.environ['DESI_SPECTRO_REDUX'], specprod, f'exposures-{specprod}.fits'),\n",
    "           'tcls': dsr.Exposure,\n",
    "           'hdu': 'EXPOSURES',\n",
    "           'insert': {'faflavor': ('program',), 'mjd': ('date_obs',)},\n",
    "           'convert': {'program': faflavor2program, 'date_obs': lambda x: Time(x, format='mjd').to_value('datetime').replace(tzinfo=utc)},\n",
    "           'q3c': 'tilera',\n",
    "          },\n",
    "          {'filepaths': os.path.join(os.environ['DESI_SPECTRO_REDUX'], specprod, f'exposures-{specprod}.fits'),\n",
    "           'tcls': dsr.Frame,\n",
    "           'hdu': 'FRAMES',\n",
    "           'preload': dsr._frameid,\n",
    "          }]\n"
   ]
  },
  {
   "cell_type": "code",
   "execution_count": null,
   "id": "937af545-dc5a-4821-bafd-7a28785bc884",
   "metadata": {},
   "outputs": [],
   "source": [
    "for l in loader:\n",
    "    dsr.load_file(**l)"
   ]
  },
  {
   "cell_type": "markdown",
   "id": "c34d7286-63da-497c-98a0-439b1f216820",
   "metadata": {},
   "source": [
    "## Test load fiberassign"
   ]
  },
  {
   "cell_type": "code",
   "execution_count": null,
   "id": "9fd33e0b-a7ff-4365-9cb9-e338114cd9d3",
   "metadata": {},
   "outputs": [],
   "source": [
    "fiberassign_files = [checkgzip(os.path.join(os.environ['DESI_TARGET'], 'fiberassign', 'tiles', 'trunk', (f\"{tileid[0]:06d}\")[0:3], f\"fiberassign-{tileid[0]:06d}.fits\"))\n",
    "                     for tileid in dsr.dbSession.query(dsr.Tile.tileid).order_by(dsr.Tile.tileid)]\n",
    "fiberassign_files"
   ]
  },
  {
   "cell_type": "code",
   "execution_count": null,
   "id": "a6b358d9-6549-47b8-9ffd-cfbc4e8071d8",
   "metadata": {},
   "outputs": [],
   "source": [
    "loader = [{'filepaths': fiberassign_files,\n",
    "           'tcls': dsr.Fiberassign,\n",
    "           'hdu': 'FIBERASSIGN',\n",
    "           'preload': dsr._tileid,\n",
    "           'q3c': 'target_ra',\n",
    "          },\n",
    "          {'filepaths': fiberassign_files,\n",
    "           'tcls': dsr.Potential,\n",
    "           'hdu': 'POTENTIAL_ASSIGNMENTS',\n",
    "           'preload': dsr._tileid,\n",
    "          }]"
   ]
  },
  {
   "cell_type": "code",
   "execution_count": null,
   "id": "8b056a66-c8ed-42a1-8345-b6d9ba8513e3",
   "metadata": {},
   "outputs": [],
   "source": [
    "for l in loader:\n",
    "    dsr.load_file(**l)"
   ]
  },
  {
   "cell_type": "code",
   "execution_count": null,
   "id": "619c7805-c8fb-4ef7-bfd6-78a0e1f0ba97",
   "metadata": {},
   "outputs": [],
   "source": [
    "dsr.load_file(**(loader[1]))"
   ]
  },
  {
   "cell_type": "code",
   "execution_count": null,
   "id": "1d04e4f9-32a4-442b-bd29-7047e1c2a3a3",
   "metadata": {},
   "outputs": [],
   "source": []
  }
 ],
 "metadata": {
  "kernelspec": {
   "display_name": "DESI custom",
   "language": "python",
   "name": "desi-custom"
  },
  "language_info": {
   "codemirror_mode": {
    "name": "ipython",
    "version": 3
   },
   "file_extension": ".py",
   "mimetype": "text/x-python",
   "name": "python",
   "nbconvert_exporter": "python",
   "pygments_lexer": "ipython3",
   "version": "3.8.3"
  }
 },
 "nbformat": 4,
 "nbformat_minor": 5
}
